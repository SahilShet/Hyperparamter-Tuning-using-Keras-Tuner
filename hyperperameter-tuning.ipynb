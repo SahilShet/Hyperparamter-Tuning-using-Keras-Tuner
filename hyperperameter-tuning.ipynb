{
  "nbformat": 4,
  "nbformat_minor": 0,
  "metadata": {
    "colab": {
      "name": "Copy of Untitled3.ipynb",
      "provenance": []
    },
    "kernelspec": {
      "name": "python3",
      "display_name": "Python 3"
    },
    "language_info": {
      "name": "python"
    }
  },
  "cells": [
    {
      "cell_type": "code",
      "metadata": {
        "id": "Xc63VNMtmoeD"
      },
      "source": [
        "pip install -U keras-tuner"
      ],
      "execution_count": null,
      "outputs": []
    },
    {
      "cell_type": "code",
      "metadata": {
        "id": "X9dzBbiCmurn"
      },
      "source": [
        "pip install tensorflow"
      ],
      "execution_count": null,
      "outputs": []
    },
    {
      "cell_type": "code",
      "metadata": {
        "id": "YXBuYyLooSxg"
      },
      "source": [
        "import tensorflow as tf\n",
        "print(tf.__version__)"
      ],
      "execution_count": null,
      "outputs": []
    },
    {
      "cell_type": "code",
      "metadata": {
        "colab": {
          "base_uri": "https://localhost:8080/"
        },
        "id": "t3qXtPHSoB6u",
        "outputId": "2ce0047f-f00f-4ebb-d3aa-069b410dd14e"
      },
      "source": [
        "mnist = tf.keras.datasets.mnist\n",
        "(x_train, y_train),(x_test, y_test) = mnist.load_data()\n",
        "x_train, x_test = x_train / 255.0, x_test /255.0\n",
        "print(\"x_train.shape:\",x_train.shape)"
      ],
      "execution_count": null,
      "outputs": [
        {
          "output_type": "stream",
          "text": [
            "x_train.shape: (60000, 28, 28)\n"
          ],
          "name": "stdout"
        }
      ]
    },
    {
      "cell_type": "code",
      "metadata": {
        "id": "T8Prg5jBmu49"
      },
      "source": [
        "from tensorflow import keras\n",
        "from tensorflow.keras import layers\n",
        "from kerastuner.tuners import RandomSearch\n",
        "\n",
        "\n",
        "def build_model(hp):\n",
        "    model = keras.Sequential()\n",
        "    model.add(keras.layers.Flatten(input_shape=(28, 28)))\n",
        "\n",
        "    model.add(layers.Dense(units=hp.Int('units',\n",
        "                                        min_value=32,\n",
        "                                        max_value=512,\n",
        "                                        step=128),\n",
        "                           activation='relu'))\n",
        "    model.add(layers.Dense(10, activation='softmax'))\n",
        "    model.compile(\n",
        "        optimizer=keras.optimizers.Adam(\n",
        "            hp.Choice('learning_rate',\n",
        "                      values=[1e-2, 1e-4])),\n",
        "        loss='sparse_categorical_crossentropy',\n",
        "        metrics=['accuracy'])\n",
        "    return model"
      ],
      "execution_count": null,
      "outputs": []
    },
    {
      "cell_type": "code",
      "metadata": {
        "id": "TpNiGa2GmvEn"
      },
      "source": [
        "tuner = RandomSearch(\n",
        "    build_model,\n",
        "    objective='val_accuracy',\n",
        "    max_trials=5,\n",
        "    executions_per_trial=3,\n",
        "    directory='my_dir',\n",
        "    project_name='helloworld')"
      ],
      "execution_count": null,
      "outputs": []
    },
    {
      "cell_type": "code",
      "metadata": {
        "colab": {
          "base_uri": "https://localhost:8080/"
        },
        "id": "GwkCDIUqmvRy",
        "outputId": "0f2bd40b-c8af-4b2d-8c1d-db6ad30558da"
      },
      "source": [
        "tuner.search_space_summary()\n"
      ],
      "execution_count": null,
      "outputs": [
        {
          "output_type": "stream",
          "text": [
            "Search space summary\n",
            "Default search space size: 2\n",
            "units (Int)\n",
            "{'default': None, 'conditions': [], 'min_value': 32, 'max_value': 512, 'step': 128, 'sampling': None}\n",
            "learning_rate (Choice)\n",
            "{'default': 0.01, 'conditions': [], 'values': [0.01, 0.0001], 'ordered': True}\n"
          ],
          "name": "stdout"
        }
      ]
    },
    {
      "cell_type": "code",
      "metadata": {
        "colab": {
          "base_uri": "https://localhost:8080/"
        },
        "id": "Z0ZXInylmvdE",
        "outputId": "e49c263d-2da4-4ed5-d750-a75d4f1f7aa3"
      },
      "source": [
        "tuner.search(x_train, y_train,\n",
        "             epochs=5,\n",
        "             validation_data=(x_test, y_test))"
      ],
      "execution_count": null,
      "outputs": [
        {
          "output_type": "stream",
          "text": [
            "Trial 5 Complete [00h 01m 55s]\n",
            "val_accuracy: 0.9620333512624105\n",
            "\n",
            "Best val_accuracy So Far: 0.9666000008583069\n",
            "Total elapsed time: 00h 10m 57s\n",
            "INFO:tensorflow:Oracle triggered exit\n"
          ],
          "name": "stdout"
        }
      ]
    },
    {
      "cell_type": "code",
      "metadata": {
        "colab": {
          "base_uri": "https://localhost:8080/"
        },
        "id": "UPYfeh4VmvpT",
        "outputId": "455991b9-3a68-4b28-e1b0-66785e0dc2d8"
      },
      "source": [
        "tuner.results_summary()"
      ],
      "execution_count": null,
      "outputs": [
        {
          "output_type": "stream",
          "text": [
            "Results summary\n",
            "Results in my_dir/helloworld\n",
            "Showing 10 best trials\n",
            "Objective(name='val_accuracy', direction='max')\n",
            "Trial summary\n",
            "Hyperparameters:\n",
            "units: 416\n",
            "learning_rate: 0.0001\n",
            "Score: 0.9666000008583069\n",
            "Trial summary\n",
            "Hyperparameters:\n",
            "units: 288\n",
            "learning_rate: 0.01\n",
            "Score: 0.9623333414395651\n",
            "Trial summary\n",
            "Hyperparameters:\n",
            "units: 416\n",
            "learning_rate: 0.01\n",
            "Score: 0.96206667025884\n",
            "Trial summary\n",
            "Hyperparameters:\n",
            "units: 288\n",
            "learning_rate: 0.0001\n",
            "Score: 0.9620333512624105\n",
            "Trial summary\n",
            "Hyperparameters:\n",
            "units: 160\n",
            "learning_rate: 0.01\n",
            "Score: 0.9607333342234293\n"
          ],
          "name": "stdout"
        }
      ]
    },
    {
      "cell_type": "code",
      "metadata": {
        "id": "iBc43Zwamvxl"
      },
      "source": [
        "def build_model2(hp):\n",
        "    model = tf.keras.Sequential()\n",
        "    model.add(layers.Flatten(input_shape=(28, 28)))\n",
        "    for i in range(hp.Int('layers', 2, 6)):\n",
        "        model.add(tf.keras.layers.Dense(\n",
        "            units=hp.Int('units_' + str(i),50,100,step=10),\n",
        "            activation=hp.Choice('act_' + str(i), ['relu','sigmoid'])))\n",
        "    model.add(tf.keras.layers.Dense(1, activation='softmax'))\n",
        "    model.compile('adam','binary_crossentropy', metrics=['accuracy'])\n",
        "    return model"
      ],
      "execution_count": null,
      "outputs": []
    },
    {
      "cell_type": "code",
      "metadata": {
        "id": "HIpLMWchmv6A"
      },
      "source": [
        "tuner2 = RandomSearch(\n",
        "    build_model2,\n",
        "    objective='val_accuracy',\n",
        "    max_trials=5,\n",
        "    executions_per_trial=3,\n",
        "    directory='my_dir2',\n",
        "    project_name='helloworld')"
      ],
      "execution_count": null,
      "outputs": []
    },
    {
      "cell_type": "code",
      "metadata": {
        "colab": {
          "base_uri": "https://localhost:8080/"
        },
        "id": "4IO6drODwN2P",
        "outputId": "1605b880-21b3-433c-af76-e14dc9403301"
      },
      "source": [
        "tuner2.search_space_summary()"
      ],
      "execution_count": null,
      "outputs": [
        {
          "output_type": "stream",
          "text": [
            "Search space summary\n",
            "Default search space size: 5\n",
            "layers (Int)\n",
            "{'default': None, 'conditions': [], 'min_value': 2, 'max_value': 6, 'step': 1, 'sampling': None}\n",
            "units_0 (Int)\n",
            "{'default': None, 'conditions': [], 'min_value': 50, 'max_value': 100, 'step': 10, 'sampling': None}\n",
            "act_0 (Choice)\n",
            "{'default': 'relu', 'conditions': [], 'values': ['relu', 'sigmoid'], 'ordered': False}\n",
            "units_1 (Int)\n",
            "{'default': None, 'conditions': [], 'min_value': 50, 'max_value': 100, 'step': 10, 'sampling': None}\n",
            "act_1 (Choice)\n",
            "{'default': 'relu', 'conditions': [], 'values': ['relu', 'sigmoid'], 'ordered': False}\n"
          ],
          "name": "stdout"
        }
      ]
    },
    {
      "cell_type": "code",
      "metadata": {
        "colab": {
          "base_uri": "https://localhost:8080/"
        },
        "id": "SLGKTilKwN-D",
        "outputId": "f6481cc1-d669-4d57-ccb2-f28f1ab5f043"
      },
      "source": [
        "tuner2.search(x_train,y_train,\n",
        "              epochs=5,\n",
        "              validation_data=(x_test,y_test))"
      ],
      "execution_count": null,
      "outputs": [
        {
          "output_type": "stream",
          "text": [
            "Trial 5 Complete [00h 01m 48s]\n",
            "val_accuracy: 0.11349999904632568\n",
            "\n",
            "Best val_accuracy So Far: 0.11349999904632568\n",
            "Total elapsed time: 00h 08m 58s\n",
            "INFO:tensorflow:Oracle triggered exit\n"
          ],
          "name": "stdout"
        }
      ]
    },
    {
      "cell_type": "code",
      "metadata": {
        "colab": {
          "base_uri": "https://localhost:8080/"
        },
        "id": "XktptF3wwOKR",
        "outputId": "805acc05-3041-4e94-bc97-1607dad0b44e"
      },
      "source": [
        "tuner2.results_summary()"
      ],
      "execution_count": null,
      "outputs": [
        {
          "output_type": "stream",
          "text": [
            "Results summary\n",
            "Results in my_dir2/helloworld\n",
            "Showing 10 best trials\n",
            "Objective(name='val_accuracy', direction='max')\n",
            "Trial summary\n",
            "Hyperparameters:\n",
            "layers: 3\n",
            "units_0: 80\n",
            "act_0: relu\n",
            "units_1: 90\n",
            "act_1: sigmoid\n",
            "units_2: 50\n",
            "act_2: relu\n",
            "Score: 0.11349999904632568\n",
            "Trial summary\n",
            "Hyperparameters:\n",
            "layers: 4\n",
            "units_0: 100\n",
            "act_0: relu\n",
            "units_1: 90\n",
            "act_1: sigmoid\n",
            "units_2: 100\n",
            "act_2: sigmoid\n",
            "units_3: 50\n",
            "act_3: relu\n",
            "Score: 0.11349999904632568\n",
            "Trial summary\n",
            "Hyperparameters:\n",
            "layers: 5\n",
            "units_0: 70\n",
            "act_0: relu\n",
            "units_1: 100\n",
            "act_1: sigmoid\n",
            "units_2: 80\n",
            "act_2: relu\n",
            "units_3: 70\n",
            "act_3: sigmoid\n",
            "units_4: 50\n",
            "act_4: relu\n",
            "Score: 0.11349999904632568\n",
            "Trial summary\n",
            "Hyperparameters:\n",
            "layers: 3\n",
            "units_0: 80\n",
            "act_0: sigmoid\n",
            "units_1: 100\n",
            "act_1: sigmoid\n",
            "units_2: 70\n",
            "act_2: sigmoid\n",
            "units_3: 80\n",
            "act_3: relu\n",
            "units_4: 70\n",
            "act_4: relu\n",
            "Score: 0.11349999904632568\n",
            "Trial summary\n",
            "Hyperparameters:\n",
            "layers: 3\n",
            "units_0: 80\n",
            "act_0: sigmoid\n",
            "units_1: 60\n",
            "act_1: relu\n",
            "units_2: 60\n",
            "act_2: relu\n",
            "units_3: 60\n",
            "act_3: sigmoid\n",
            "units_4: 80\n",
            "act_4: sigmoid\n",
            "Score: 0.11349999904632568\n"
          ],
          "name": "stdout"
        }
      ]
    }
  ]
}